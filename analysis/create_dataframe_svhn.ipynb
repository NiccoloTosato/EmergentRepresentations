{
 "cells": [
  {
   "cell_type": "code",
   "execution_count": 22,
   "id": "229e314d-90fb-4952-aa95-1123afa9fd6a",
   "metadata": {},
   "outputs": [
    {
     "name": "stdout",
     "output_type": "stream",
     "text": [
      "Requirement already satisfied: tqdm in ./analysis_thin_venv/lib64/python3.11/site-packages (4.66.2)\n",
      "\n",
      "\u001b[1m[\u001b[0m\u001b[34;49mnotice\u001b[0m\u001b[1;39;49m]\u001b[0m\u001b[39;49m A new release of pip available: \u001b[0m\u001b[31;49m22.2.2\u001b[0m\u001b[39;49m -> \u001b[0m\u001b[32;49m24.0\u001b[0m\n",
      "\u001b[1m[\u001b[0m\u001b[34;49mnotice\u001b[0m\u001b[1;39;49m]\u001b[0m\u001b[39;49m To update, run: \u001b[0m\u001b[32;49mpip install --upgrade pip\u001b[0m\n"
     ]
    }
   ],
   "source": [
    "import numpy as np\n",
    "import matplotlib.pyplot as plt\n",
    "import os\n",
    "import pandas as pd\n",
    "import scipy as sp\n",
    "import re\n",
    "from pprint import pprint\n",
    "!pip install tqdm\n",
    "from tqdm import tqdm"
   ]
  },
  {
   "cell_type": "code",
   "execution_count": 28,
   "id": "3acf1b46-03d1-422e-ad0c-8b9d8dbe1e41",
   "metadata": {},
   "outputs": [],
   "source": [
    "def get_experiments_list(base_path=\"/orfeo/cephfs/home/area/ntosato/scratch/pippo/ForwardForward-machiavelli/results/\",model=\"ff\",dataset=\"svhn\"):\n",
    "    path=f\"{base_path}/{model}/{dataset}/\"\n",
    "    experiments_list=os.listdir(path)\n",
    "    path_list=list()\n",
    "    for exp in experiments_list:\n",
    "        exp=f\"{path}/{exp}\"\n",
    "        path_list.append(exp)\n",
    "    return path_list"
   ]
  },
  {
   "cell_type": "code",
   "execution_count": 48,
   "id": "28fdd918-b423-43a1-b90c-49503b7ddab5",
   "metadata": {},
   "outputs": [],
   "source": [
    "def base_info(path):\n",
    "    d = dict()\n",
    "    d[\"name\"]=os.path.basename(path)\n",
    "    split=d[\"name\"].split(\"_\")\n",
    "    d[\"norm\"]=split[1]\n",
    "    d[\"epochs\"]=float(split[2])\n",
    "    d[\"batch\"]=int(split[3])\n",
    "    d[\"lr\"]=float(split[4])\n",
    "    d[\"path\"]=path\n",
    "    return d\n",
    "\n",
    "def parse_stat(path):\n",
    "    d=base_info(path)\n",
    "    try:\n",
    "        with open(f\"{path}/stats.txt\", mode=\"r\") as file:\n",
    "            for line in file:\n",
    "                \n",
    "                if groups:=re.search(r\"Total Accuracy (?P<total_accuracy>[0-9][0-9]*\\.[0-9]+)\",line) :\n",
    "                    group_dict=groups.groupdict()\n",
    "                    d[\"accuracy\"]=float(group_dict[\"total_accuracy\"])\n",
    "                    \n",
    "                if groups:=re.search(r\"Accuracy (?P<class>[0-9]) (?P<class_accuracy>[0-9]*\\.[0-9]+)\",line) :\n",
    "                    group_dict=groups.groupdict()\n",
    "                    label=group_dict[\"class\"]\n",
    "                    d[f\"class_accuracy_{label}\"]=float(group_dict[\"class_accuracy\"])\n",
    "\n",
    "                if groups:=re.search(r\"Layer (?P<layer>[0-9]) sparseness (?P<sparseness>[0-9]*\\.[0-9]+)\",line) :\n",
    "                    group_dict=groups.groupdict()\n",
    "                    layer=group_dict[\"layer\"]\n",
    "                    d[f\"sparseness_layer_{layer}\"]=float(group_dict[\"sparseness\"])\n",
    "                    \n",
    "                if groups:=re.search(r\"Layer (?P<layer>[0-9]) (?P<class>[0-9]) sparseness (?P<sparseness>[0-9]*\\.[0-9]+)\",line) :\n",
    "                    group_dict=groups.groupdict()\n",
    "                    layer=group_dict[\"layer\"]\n",
    "                    label=group_dict[\"class\"]\n",
    "                    d[f\"sparseness_layer_{layer}_class_{label}\"]=float(group_dict[\"sparseness\"])\n",
    "                    #print(groups.groupdict())\n",
    "        return d\n",
    "    except Exception as e:\n",
    "        print(f\"Error opening {e}\")\n",
    "#        df = pd.DataFrame(data, index=[0])\n"
   ]
  },
  {
   "cell_type": "code",
   "execution_count": 49,
   "id": "058afe92-3e14-467d-9856-eb39ebdd3353",
   "metadata": {},
   "outputs": [
    {
     "name": "stdout",
     "output_type": "stream",
     "text": [
      "    accuracy  sparseness_layer_0  sparseness_layer_1  sparseness_layer_2\n",
      "0   0.644169            0.886593            0.600948            0.774220\n",
      "1   0.636447            0.856863            0.511111            0.668191\n",
      "5   0.622119            0.810702            0.510888            0.489273\n",
      "6   0.625423            0.792554            0.492575            0.314023\n",
      "11  0.634565            0.894540            0.614477            0.793086\n",
      "12  0.637946            0.882643            0.602636            0.765185\n",
      "13  0.641902            0.881361            0.594126            0.751232\n",
      "16  0.641019            0.891036            0.611761            0.779646\n",
      "17  0.616395            0.801918            0.514575            0.453832\n",
      "18  0.644399            0.870921            0.562842            0.719968\n",
      "19  0.640827            0.840436            0.525522            0.597500\n",
      "24  0.605332            0.895951            0.702237            0.819387\n",
      "27  0.631569            0.836962            0.495932            0.633970\n",
      "28  0.613437            0.783023            0.529329            0.380697\n",
      "30  0.606407            0.740157            0.548154            0.270887\n",
      "32  0.627727            0.826172            0.511187            0.550499\n"
     ]
    }
   ],
   "source": [
    "list_exp=get_experiments_list(dataset=\"svhn\",model=\"ff\")\n",
    "\n",
    "df_ff=pd.DataFrame()\n",
    "for exp in list_exp:\n",
    "    data = parse_stat(exp)\n",
    "    #data = pd.DataFrame([data])\n",
    "    #df = df.append(data) \n",
    "    df_ff= pd.concat([df_ff, pd.DataFrame([data])], ignore_index=True)   \n",
    "df_ff=df_ff[(df_ff[\"accuracy\"]>0.60) & (df_ff[\"norm\"]==\"l2\") & (df_ff[\"batch\"]==2048) ]\n",
    "print(df_ff[[\"accuracy\",\"sparseness_layer_0\",\"sparseness_layer_1\",\"sparseness_layer_2\"]])"
   ]
  },
  {
   "cell_type": "code",
   "execution_count": 50,
   "id": "4542958f-87ba-4e13-93c4-37fe71cbc90a",
   "metadata": {},
   "outputs": [
    {
     "name": "stdout",
     "output_type": "stream",
     "text": [
      "    accuracy  sparseness_layer_0  sparseness_layer_1  sparseness_layer_2\n",
      "0   0.845536            0.470974            0.861373            0.748498\n",
      "2   0.862323            0.480240            0.868822            0.783709\n",
      "4   0.846497            0.471916            0.858774            0.751653\n",
      "5   0.872081            0.485875            0.743177            0.506161\n",
      "7   0.835817            0.466759            0.852734            0.728396\n",
      "9   0.845383            0.475452            0.654022            0.436434\n",
      "10  0.863245            0.481572            0.699466            0.460952\n",
      "11  0.857099            0.478566            0.686677            0.452110\n",
      "12  0.828058            0.465151            0.843747            0.714276\n",
      "13  0.876460            0.488291            0.757105            0.538339\n",
      "16  0.858290            0.474930            0.863091            0.775747\n",
      "17  0.836317            0.473836            0.626716            0.431005\n"
     ]
    }
   ],
   "source": [
    "list_exp=get_experiments_list(dataset=\"svhn\",model=\"bp\")\n",
    "\n",
    "df_bp=pd.DataFrame()\n",
    "for exp in list_exp:\n",
    "    data = parse_stat(exp)\n",
    "    #data = pd.DataFrame([data])\n",
    "    #df = df.append(data) \n",
    "    df_bp= pd.concat([df_bp, pd.DataFrame([data])], ignore_index=True)   \n",
    "#print(df_bp)\n",
    "df_bp=df_bp[(df_bp[\"accuracy\"]>0.60) & (df_bp[\"norm\"]==\"l2\") & (df_bp[\"batch\"]==2048)  ]\n",
    "print(df_bp[[\"accuracy\",\"sparseness_layer_0\",\"sparseness_layer_1\",\"sparseness_layer_2\"]])"
   ]
  },
  {
   "cell_type": "code",
   "execution_count": 51,
   "id": "9aa4e123-d5b0-48a0-a2d4-9fa299f50a51",
   "metadata": {},
   "outputs": [
    {
     "name": "stdout",
     "output_type": "stream",
     "text": [
      "    accuracy  sparseness_layer_0  sparseness_layer_1  sparseness_layer_2\n",
      "0   0.788184            0.800019            0.879531            0.673979\n",
      "1   0.782921            0.726721            0.894826            0.632976\n",
      "2   0.647050            0.891030            0.954450            0.992493\n",
      "4   0.672365            0.919206            0.942224            0.992524\n",
      "5   0.802743            0.647840            0.892499            0.426504\n",
      "6   0.768247            0.665418            0.894759            0.630709\n",
      "7   0.814382            0.573955            0.836721            0.437129\n",
      "8   0.673402            0.931386            0.940106            1.000000\n",
      "11  0.786647            0.827690            0.866195            0.690784\n",
      "12  0.792525            0.796296            0.879332            0.684446\n",
      "13  0.795943            0.780209            0.881314            0.676780\n",
      "14  0.649892            0.900133            0.945570            0.995917\n",
      "15  0.799285            0.540186            0.830661            0.418369\n",
      "16  0.781039            0.812363            0.876850            0.690588\n",
      "17  0.840542            0.638213            0.882056            0.385155\n",
      "18  0.785187            0.756390            0.892651            0.671730\n",
      "19  0.839697            0.663680            0.894253            0.381303\n",
      "20  0.664144            0.907765            0.953998            0.998558\n",
      "23  0.825446            0.587400            0.858323            0.408701\n",
      "24  0.627266            0.863887            0.969929            0.982645\n",
      "25  0.678204            0.921610            0.934931                 NaN\n",
      "26  0.668408            0.925014            0.937552            1.000000\n",
      "27  0.786033            0.701827            0.895556            0.649730\n",
      "28  0.839889            0.626438            0.878660            0.389419\n",
      "29  0.676898            0.927802            0.940629            0.997230\n",
      "30  0.837008            0.604870            0.874337            0.406625\n",
      "32  0.839544            0.653362            0.887118            0.399693\n"
     ]
    }
   ],
   "source": [
    "list_exp=get_experiments_list(dataset=\"svhn\",model=\"bp_ff\")\n",
    "\n",
    "df_bp_ff=pd.DataFrame()\n",
    "for exp in list_exp:\n",
    "    data = parse_stat(exp)\n",
    "    #data = pd.DataFrame([data])\n",
    "    #df = df.append(data) \n",
    "    df_bp_ff= pd.concat([df_bp_ff, pd.DataFrame([data])], ignore_index=True)   \n",
    "df_bp_ff=df_bp_ff[(df_bp_ff[\"accuracy\"]>0.6) & (df_bp_ff[\"norm\"]==\"l2\") & (df_bp_ff[\"batch\"]==2048)  ]\n",
    "print(df_bp_ff[[\"accuracy\",\"sparseness_layer_0\",\"sparseness_layer_1\",\"sparseness_layer_2\"]])"
   ]
  },
  {
   "cell_type": "code",
   "execution_count": null,
   "id": "2063307b-34b7-4e8b-bdc4-d0931090f558",
   "metadata": {},
   "outputs": [],
   "source": [
    "df_ff.loc[101][\"sparseness_layer_1\"]"
   ]
  },
  {
   "cell_type": "code",
   "execution_count": 55,
   "id": "b2027ad2-5e50-4552-a355-621fb6e0bdc7",
   "metadata": {},
   "outputs": [],
   "source": [
    "selected_model={\"ff\":[df_ff,0],\n",
    "                \"bp\":[df_bp,0],\n",
    "                \"bp_ff\":[df_bp_ff,0]}"
   ]
  },
  {
   "cell_type": "code",
   "execution_count": 56,
   "id": "99f1d893-20f2-4d7f-833b-f7cac950b4ad",
   "metadata": {},
   "outputs": [
    {
     "data": {
      "image/png": "[encoded data removed]",
      "text/plain": [
       "<Figure size 3000x1000 with 3 Axes>"
      ]
     },
     "metadata": {},
     "output_type": "display_data"
    }
   ],
   "source": [
    "def calculateSize(selected_model):\n",
    "    '''\n",
    "    Calculate  the size of the ensembles for each model,layer and category.\n",
    "    '''\n",
    "    jitter=np.array([i/10 for i in range(0,10)])\n",
    "    labels=[i for j in range(3) for i in range(10)]\n",
    "    #with plt.style.context(\"_mpl-gallery-nogrid\"):\n",
    "    plt.figure(figsize=(30,10))\n",
    "    for layer in range(3):\n",
    "        plt.subplot(1,3,1+layer)\n",
    "        i=0\n",
    "        ticks=list()\n",
    "        for model in ['ff','bp_ff','bp']:\n",
    "            i+=1.2\n",
    "            dataframe,index=selected_model[model]\n",
    "            units=list()\n",
    "            for lbl in range(10):\n",
    "                units.append(dataframe.loc[index][f\"sparseness_layer_{layer}_class_{lbl}\"])\n",
    "            plt.ylim([0,1.1])\n",
    "            #plt.yscale(\"log\")\n",
    "            plt.bar(i+jitter,units,label=model,width=0.05)\n",
    "            ticks+=(i+jitter).tolist()\n",
    "        plt.legend(labels=['FF','BP/FF','BP'],loc='upper left')\n",
    "        plt.title(f'Layer {layer+1}',fontsize=24)\n",
    "        plt.xticks(ticks=ticks, labels=labels,fontsize=15)\n",
    "        plt.yticks(fontsize=15)\n",
    "        plt.xlabel(\"Categories\",fontsize=21)\n",
    "        if layer==0:\n",
    "            plt.ylabel(\"Yukun sparseness\",fontsize=21)\n",
    "        plt.grid(axis=\"y\",which=\"both\",linewidth=0.2)\n",
    "\n",
    "calculateSize(selected_model)"
   ]
  },
  {
   "cell_type": "code",
   "execution_count": 58,
   "id": "06280590-000f-4f0c-ad31-724fe99a8501",
   "metadata": {},
   "outputs": [],
   "source": [
    "def ensembles_loo(representation, thr=0.05):\n",
    "    means=representation.mean(0)\n",
    "    ensemble=[]\n",
    "    for n_id in range(representation.shape[1]):\n",
    "        means[n_id]\n",
    "        loo_mean=np.delete(means, n_id, axis=0).mean()\n",
    "        if (means[n_id]-loo_mean*1)/loo_mean>1:\n",
    "            ensemble.append(n_id)\n",
    "        #print(means[n_id], loo_mean)\n",
    "    return ensemble"
   ]
  },
  {
   "cell_type": "code",
   "execution_count": 59,
   "id": "3c425ee3-d3d5-4fd8-8ca5-fe24427dfa34",
   "metadata": {},
   "outputs": [
    {
     "ename": "KeyError",
     "evalue": "106",
     "output_type": "error",
     "traceback": [
      "\u001b[0;31m---------------------------------------------------------------------------\u001b[0m",
      "\u001b[0;31mKeyError\u001b[0m                                  Traceback (most recent call last)",
      "File \u001b[0;32m/orfeo/cephfs/scratch/area/ntosato/pippo/ForwardForward-machiavelli/analysis/analysis_thin_venv/lib64/python3.11/site-packages/pandas/core/indexes/base.py:3805\u001b[0m, in \u001b[0;36mIndex.get_loc\u001b[0;34m(self, key)\u001b[0m\n\u001b[1;32m   3804\u001b[0m \u001b[38;5;28;01mtry\u001b[39;00m:\n\u001b[0;32m-> 3805\u001b[0m     \u001b[38;5;28;01mreturn\u001b[39;00m \u001b[38;5;28;43mself\u001b[39;49m\u001b[38;5;241;43m.\u001b[39;49m\u001b[43m_engine\u001b[49m\u001b[38;5;241;43m.\u001b[39;49m\u001b[43mget_loc\u001b[49m\u001b[43m(\u001b[49m\u001b[43mcasted_key\u001b[49m\u001b[43m)\u001b[49m\n\u001b[1;32m   3806\u001b[0m \u001b[38;5;28;01mexcept\u001b[39;00m \u001b[38;5;167;01mKeyError\u001b[39;00m \u001b[38;5;28;01mas\u001b[39;00m err:\n",
      "File \u001b[0;32mindex.pyx:167\u001b[0m, in \u001b[0;36mpandas._libs.index.IndexEngine.get_loc\u001b[0;34m()\u001b[0m\n",
      "File \u001b[0;32mindex.pyx:196\u001b[0m, in \u001b[0;36mpandas._libs.index.IndexEngine.get_loc\u001b[0;34m()\u001b[0m\n",
      "File \u001b[0;32mpandas/_libs/hashtable_class_helper.pxi:2606\u001b[0m, in \u001b[0;36mpandas._libs.hashtable.Int64HashTable.get_item\u001b[0;34m()\u001b[0m\n",
      "File \u001b[0;32mpandas/_libs/hashtable_class_helper.pxi:2630\u001b[0m, in \u001b[0;36mpandas._libs.hashtable.Int64HashTable.get_item\u001b[0;34m()\u001b[0m\n",
      "\u001b[0;31mKeyError\u001b[0m: 106",
      "\nThe above exception was the direct cause of the following exception:\n",
      "\u001b[0;31mKeyError\u001b[0m                                  Traceback (most recent call last)",
      "Cell \u001b[0;32mIn[59], line 61\u001b[0m\n\u001b[1;32m     59\u001b[0m     \u001b[38;5;66;03m#plt.savefig('heatmap.png', bbox_inches = \"tight\")\u001b[39;00m\n\u001b[1;32m     60\u001b[0m     plt\u001b[38;5;241m.\u001b[39mshow()\n\u001b[0;32m---> 61\u001b[0m \u001b[43mdf_ff\u001b[49m\u001b[38;5;241;43m.\u001b[39;49m\u001b[43mloc\u001b[49m\u001b[43m[\u001b[49m\u001b[38;5;241;43m106\u001b[39;49m\u001b[43m]\u001b[49m[\u001b[38;5;124m\"\u001b[39m\u001b[38;5;124mpath\u001b[39m\u001b[38;5;124m\"\u001b[39m]\n",
      "File \u001b[0;32m/orfeo/cephfs/scratch/area/ntosato/pippo/ForwardForward-machiavelli/analysis/analysis_thin_venv/lib64/python3.11/site-packages/pandas/core/indexing.py:1191\u001b[0m, in \u001b[0;36m_LocationIndexer.__getitem__\u001b[0;34m(self, key)\u001b[0m\n\u001b[1;32m   1189\u001b[0m maybe_callable \u001b[38;5;241m=\u001b[39m com\u001b[38;5;241m.\u001b[39mapply_if_callable(key, \u001b[38;5;28mself\u001b[39m\u001b[38;5;241m.\u001b[39mobj)\n\u001b[1;32m   1190\u001b[0m maybe_callable \u001b[38;5;241m=\u001b[39m \u001b[38;5;28mself\u001b[39m\u001b[38;5;241m.\u001b[39m_check_deprecated_callable_usage(key, maybe_callable)\n\u001b[0;32m-> 1191\u001b[0m \u001b[38;5;28;01mreturn\u001b[39;00m \u001b[38;5;28;43mself\u001b[39;49m\u001b[38;5;241;43m.\u001b[39;49m\u001b[43m_getitem_axis\u001b[49m\u001b[43m(\u001b[49m\u001b[43mmaybe_callable\u001b[49m\u001b[43m,\u001b[49m\u001b[43m \u001b[49m\u001b[43maxis\u001b[49m\u001b[38;5;241;43m=\u001b[39;49m\u001b[43maxis\u001b[49m\u001b[43m)\u001b[49m\n",
      "File \u001b[0;32m/orfeo/cephfs/scratch/area/ntosato/pippo/ForwardForward-machiavelli/analysis/analysis_thin_venv/lib64/python3.11/site-packages/pandas/core/indexing.py:1431\u001b[0m, in \u001b[0;36m_LocIndexer._getitem_axis\u001b[0;34m(self, key, axis)\u001b[0m\n\u001b[1;32m   1429\u001b[0m \u001b[38;5;66;03m# fall thru to straight lookup\u001b[39;00m\n\u001b[1;32m   1430\u001b[0m \u001b[38;5;28mself\u001b[39m\u001b[38;5;241m.\u001b[39m_validate_key(key, axis)\n\u001b[0;32m-> 1431\u001b[0m \u001b[38;5;28;01mreturn\u001b[39;00m \u001b[38;5;28;43mself\u001b[39;49m\u001b[38;5;241;43m.\u001b[39;49m\u001b[43m_get_label\u001b[49m\u001b[43m(\u001b[49m\u001b[43mkey\u001b[49m\u001b[43m,\u001b[49m\u001b[43m \u001b[49m\u001b[43maxis\u001b[49m\u001b[38;5;241;43m=\u001b[39;49m\u001b[43maxis\u001b[49m\u001b[43m)\u001b[49m\n",
      "File \u001b[0;32m/orfeo/cephfs/scratch/area/ntosato/pippo/ForwardForward-machiavelli/analysis/analysis_thin_venv/lib64/python3.11/site-packages/pandas/core/indexing.py:1381\u001b[0m, in \u001b[0;36m_LocIndexer._get_label\u001b[0;34m(self, label, axis)\u001b[0m\n\u001b[1;32m   1379\u001b[0m \u001b[38;5;28;01mdef\u001b[39;00m \u001b[38;5;21m_get_label\u001b[39m(\u001b[38;5;28mself\u001b[39m, label, axis: AxisInt):\n\u001b[1;32m   1380\u001b[0m     \u001b[38;5;66;03m# GH#5567 this will fail if the label is not present in the axis.\u001b[39;00m\n\u001b[0;32m-> 1381\u001b[0m     \u001b[38;5;28;01mreturn\u001b[39;00m \u001b[38;5;28;43mself\u001b[39;49m\u001b[38;5;241;43m.\u001b[39;49m\u001b[43mobj\u001b[49m\u001b[38;5;241;43m.\u001b[39;49m\u001b[43mxs\u001b[49m\u001b[43m(\u001b[49m\u001b[43mlabel\u001b[49m\u001b[43m,\u001b[49m\u001b[43m \u001b[49m\u001b[43maxis\u001b[49m\u001b[38;5;241;43m=\u001b[39;49m\u001b[43maxis\u001b[49m\u001b[43m)\u001b[49m\n",
      "File \u001b[0;32m/orfeo/cephfs/scratch/area/ntosato/pippo/ForwardForward-machiavelli/analysis/analysis_thin_venv/lib64/python3.11/site-packages/pandas/core/generic.py:4298\u001b[0m, in \u001b[0;36mNDFrame.xs\u001b[0;34m(self, key, axis, level, drop_level)\u001b[0m\n\u001b[1;32m   4296\u001b[0m             new_index \u001b[38;5;241m=\u001b[39m index[loc]\n\u001b[1;32m   4297\u001b[0m \u001b[38;5;28;01melse\u001b[39;00m:\n\u001b[0;32m-> 4298\u001b[0m     loc \u001b[38;5;241m=\u001b[39m \u001b[43mindex\u001b[49m\u001b[38;5;241;43m.\u001b[39;49m\u001b[43mget_loc\u001b[49m\u001b[43m(\u001b[49m\u001b[43mkey\u001b[49m\u001b[43m)\u001b[49m\n\u001b[1;32m   4300\u001b[0m     \u001b[38;5;28;01mif\u001b[39;00m \u001b[38;5;28misinstance\u001b[39m(loc, np\u001b[38;5;241m.\u001b[39mndarray):\n\u001b[1;32m   4301\u001b[0m         \u001b[38;5;28;01mif\u001b[39;00m loc\u001b[38;5;241m.\u001b[39mdtype \u001b[38;5;241m==\u001b[39m np\u001b[38;5;241m.\u001b[39mbool_:\n",
      "File \u001b[0;32m/orfeo/cephfs/scratch/area/ntosato/pippo/ForwardForward-machiavelli/analysis/analysis_thin_venv/lib64/python3.11/site-packages/pandas/core/indexes/base.py:3812\u001b[0m, in \u001b[0;36mIndex.get_loc\u001b[0;34m(self, key)\u001b[0m\n\u001b[1;32m   3807\u001b[0m     \u001b[38;5;28;01mif\u001b[39;00m \u001b[38;5;28misinstance\u001b[39m(casted_key, \u001b[38;5;28mslice\u001b[39m) \u001b[38;5;129;01mor\u001b[39;00m (\n\u001b[1;32m   3808\u001b[0m         \u001b[38;5;28misinstance\u001b[39m(casted_key, abc\u001b[38;5;241m.\u001b[39mIterable)\n\u001b[1;32m   3809\u001b[0m         \u001b[38;5;129;01mand\u001b[39;00m \u001b[38;5;28many\u001b[39m(\u001b[38;5;28misinstance\u001b[39m(x, \u001b[38;5;28mslice\u001b[39m) \u001b[38;5;28;01mfor\u001b[39;00m x \u001b[38;5;129;01min\u001b[39;00m casted_key)\n\u001b[1;32m   3810\u001b[0m     ):\n\u001b[1;32m   3811\u001b[0m         \u001b[38;5;28;01mraise\u001b[39;00m InvalidIndexError(key)\n\u001b[0;32m-> 3812\u001b[0m     \u001b[38;5;28;01mraise\u001b[39;00m \u001b[38;5;167;01mKeyError\u001b[39;00m(key) \u001b[38;5;28;01mfrom\u001b[39;00m \u001b[38;5;21;01merr\u001b[39;00m\n\u001b[1;32m   3813\u001b[0m \u001b[38;5;28;01mexcept\u001b[39;00m \u001b[38;5;167;01mTypeError\u001b[39;00m:\n\u001b[1;32m   3814\u001b[0m     \u001b[38;5;66;03m# If we have a listlike key, _check_indexing_error will raise\u001b[39;00m\n\u001b[1;32m   3815\u001b[0m     \u001b[38;5;66;03m#  InvalidIndexError. Otherwise we fall through and re-raise\u001b[39;00m\n\u001b[1;32m   3816\u001b[0m     \u001b[38;5;66;03m#  the TypeError.\u001b[39;00m\n\u001b[1;32m   3817\u001b[0m     \u001b[38;5;28mself\u001b[39m\u001b[38;5;241m.\u001b[39m_check_indexing_error(key)\n",
      "\u001b[0;31mKeyError\u001b[0m: 106"
     ]
    }
   ],
   "source": [
    "\n",
    "import seaborn as sns\n",
    "import matplotlib.pyplot as plt\n",
    "import numpy as np\n",
    "\n",
    "def plot_shared(path):\n",
    "\n",
    "\n",
    "    #path=f'/orfeo/cephfs/home/area/ntosato/scratch/pippo/ForwardForward-machiavelli/results//ff/fashionmnist//relu_l2_200_1024_0.001/'\n",
    "    reps=np.load(path+'reps_0.npy')\n",
    "    lbls=np.load(path+'lbls_0.npy')\n",
    "    preds=np.load(path+'prediction_0.npy')\n",
    "    \n",
    "    total_data=len(preds)\n",
    "    order=np.argsort(lbls)\n",
    "    #order reps,lbls,preds\n",
    "    reps=reps[order]\n",
    "    lbls=lbls[order]\n",
    "    preds=preds[order]\n",
    "    \n",
    "    correct=(lbls==preds)\n",
    "    \n",
    "    reps=reps[correct]\n",
    "    lbls=lbls[correct]\n",
    "    preds=preds[correct]\n",
    "         \n",
    "    \n",
    "    classes=['T-shirt', 'Trouser', 'Pullover', 'Dress' ,'Coat', 'Sandal', 'Shirt', 'Sneaker', 'Bag', 'Ankle boot']\n",
    "    active=[]\n",
    "    for i in range(10):\n",
    "        if True:\n",
    "            curr_class=reps[:,0][lbls==i]\n",
    "            active.append(ensembles_loo(curr_class))\n",
    "        else:    \n",
    "            curr_class=reps[:,0][lbls==i]\n",
    "            thr=np.quantile(curr_class, q=0.9)\n",
    "            mean=np.median(curr_class, axis=0)\n",
    "            active.append(np.where(mean>thr)[0])\n",
    "    \n",
    "    #active=np.array(active)\n",
    "    mat=np.zeros((10,10))\n",
    "    annot_labels = np.empty_like(mat, dtype=str)\n",
    "    \n",
    "    for i in range(10):\n",
    "        for j in range(i+1,10):\n",
    "            mat[i,j]=(len(np.intersect1d(active[i],active[j])))\n",
    "            print(f\"Intersect: {mat[i,j]} i_len {len(active[i])} j_len {len(active[j])}\")\n",
    "            mat[j,i]=mat[i,j]\n",
    "            if mat[i,j]>0:\n",
    "                annot_labels[i,j]=mat[i,j]\n",
    "                annot_labels[j,i]=mat[j,i]\n",
    "    print(mat)\n",
    "    plt.figure(figsize=(8,8), dpi=50)\n",
    "    sns.set(font_scale = 1.8)\n",
    "    \n",
    "    ax =sns.heatmap(mat, cmap='Blues', annot=annot_labels, annot_kws={\"fontsize\":14},fmt='', xticklabels=classes, yticklabels=classes, cbar=False)\n",
    "    ax.set_yticklabels(labels=classes, weight='bold')\n",
    "    ax.set_xticklabels(labels=classes, weight='bold')\n",
    "    ax.tick_params(left=False, bottom=False)\n",
    "    #plt.savefig('heatmap.png', bbox_inches = \"tight\")\n",
    "    plt.show()\n",
    "df_ff.loc[106][\"path\"]"
   ]
  },
  {
   "cell_type": "code",
   "execution_count": null,
   "id": "5944abdf-eece-436e-8bdf-90b8e7f56c33",
   "metadata": {},
   "outputs": [],
   "source": [
    "plot_shared('/orfeo/cephfs/home/area/ntosato/scratch/pippo/ForwardForward-machiavelli/results//ff/fashionmnist//relu_l2_100_1024_0.01/')"
   ]
  },
  {
   "cell_type": "code",
   "execution_count": null,
   "id": "77e513e9-59da-4872-be53-f85917088560",
   "metadata": {},
   "outputs": [],
   "source": [
    "def ensembles_loo(representation, thr=0.05):\n",
    "    means=representation.mean(0)\n",
    "    ensemble=[]\n",
    "    for n_id in range(representation.shape[1]):\n",
    "        means[n_id]\n",
    "        loo_mean=np.delete(means, n_id, axis=0).mean()\n",
    "        if (means[n_id]-loo_mean)/loo_mean>2:\n",
    "            ensemble.append(n_id)\n",
    "        #print(means[n_id], loo_mean)\n",
    "    return ensemble\n",
    "\n",
    "path=f'/orfeo/cephfs/home/area/ntosato/scratch/pippo/ForwardForward-machiavelli/results//ff/fashionmnist//relu_l2_100_1024_0.01/'\n",
    "reps=np.load(path+'reps_0.npy')\n",
    "lbls=np.load(path+'lbls_0.npy')\n",
    "preds=np.load(path+'prediction_0.npy')\n",
    "\n",
    "total_data=len(preds)\n",
    "order=np.argsort(lbls)\n",
    "#order reps,lbls,preds\n",
    "reps=reps[order]\n",
    "lbls=lbls[order]\n",
    "preds=preds[order]\n",
    "\n",
    "correct=(lbls==preds)\n",
    "\n",
    "reps=reps[correct]\n",
    "lbls=lbls[correct]\n",
    "preds=preds[correct]\n",
    "\n",
    "for exp in range(1): \n",
    "    #reps,label,accuracy=load_data('/orfeo/cephfs/home/area/ntosato/scratch/pippo/ForwardForward-machiavelli/results//ff/fashionmnist//relu_l2_200_1024_0.001/')\n",
    "    for layer in range(reps.shape[1]):\n",
    "        data[f\"layer_{layer}\"]=dict()\n",
    "        for lbl in range(10):\n",
    "            rep=reps[lbls==lbl,layer,:]\n",
    "            data[f\"layer_{layer}\"][f\"class_{lbl}\"]=ensembles_loo(rep,(layer,lbl))\n",
    "            plt.figure()\n",
    "            plt.plot(rep.mean(axis=0),alpha=0.4)\n",
    "            signal=reps[lbls==lbl,layer,:].mean(axis=0)\n",
    "            pallocchi=data[f\"layer_{layer}\"][f\"class_{lbl}\"]\n",
    "            plt.scatter(pallocchi,signal[pallocchi],color='r')\n",
    "            plt.title(f\"Class {lbl}, layer {layer}\")"
   ]
  },
  {
   "cell_type": "code",
   "execution_count": 15,
   "id": "d6a9da65-d0e6-44f1-8db7-5c4852d275e4",
   "metadata": {},
   "outputs": [],
   "source": [
    "df_ff.to_csv('df_ff_fashion.csv')\n",
    "df_bp.to_csv('df_bp_fashion.csv')\n",
    "df_bp_ff.to_csv('df_bp_ff_fashion.csv')"
   ]
  },
  {
   "cell_type": "code",
   "execution_count": null,
   "id": "9925bf5e-bc1b-4354-b80f-45fefee10473",
   "metadata": {},
   "outputs": [],
   "source": []
  }
 ],
 "metadata": {
  "kernelspec": {
   "display_name": "Python 3 (ipykernel)",
   "language": "python",
   "name": "python3"
  },
  "language_info": {
   "codemirror_mode": {
    "name": "ipython",
    "version": 3
   },
   "file_extension": ".py",
   "mimetype": "text/x-python",
   "name": "python",
   "nbconvert_exporter": "python",
   "pygments_lexer": "ipython3",
   "version": "3.11.6"
  }
 },
 "nbformat": 4,
 "nbformat_minor": 5
}
