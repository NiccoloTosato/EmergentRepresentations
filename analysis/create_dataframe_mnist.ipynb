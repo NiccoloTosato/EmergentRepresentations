{
 "cells": [
  {
   "cell_type": "code",
   "execution_count": 18,
   "id": "229e314d-90fb-4952-aa95-1123afa9fd6a",
   "metadata": {},
   "outputs": [],
   "source": [
    "import numpy as np\n",
    "import matplotlib.pyplot as plt\n",
    "import os\n",
    "import pandas as pd\n",
    "import scipy as sp\n",
    "import re\n",
    "from pprint import pprint\n",
    "from tqdm import tqdm"
   ]
  },
  {
   "cell_type": "code",
   "execution_count": 19,
   "id": "3acf1b46-03d1-422e-ad0c-8b9d8dbe1e41",
   "metadata": {},
   "outputs": [],
   "source": [
    "def get_experiments_list(base_path=\"/orfeo/cephfs/home/area/ntosato/scratch/pippo/ForwardForward-machiavelli/results/\",model=\"ff\",dataset=\"mnist\"):\n",
    "    path=f\"{base_path}/{model}/{dataset}/\"\n",
    "    experiments_list=os.listdir(path)\n",
    "    path_list=list()\n",
    "    for exp in experiments_list:\n",
    "        exp=f\"{path}/{exp}\"\n",
    "        path_list.append(exp)\n",
    "    return path_list"
   ]
  },
  {
   "cell_type": "code",
   "execution_count": 20,
   "id": "28fdd918-b423-43a1-b90c-49503b7ddab5",
   "metadata": {},
   "outputs": [],
   "source": [
    "def base_info(path):\n",
    "    d = dict()\n",
    "    d[\"name\"]=os.path.basename(path)\n",
    "    split=d[\"name\"].split(\"_\")\n",
    "    d[\"norm\"]=split[1]\n",
    "    d[\"epochs\"]=float(split[2])\n",
    "    d[\"batch\"]=int(split[3])\n",
    "    d[\"lr\"]=float(split[4])\n",
    "    d[\"path\"]=path\n",
    "    return d\n",
    "\n",
    "def parse_stat(path):\n",
    "    d=base_info(path)\n",
    "    try:\n",
    "        with open(f\"{path}/stats.txt\", mode=\"r\") as file:\n",
    "            for line in file:\n",
    "                \n",
    "                if groups:=re.search(r\"Total Accuracy (?P<total_accuracy>[0-9][0-9]*\\.[0-9]+)\",line) :\n",
    "                    group_dict=groups.groupdict()\n",
    "                    d[\"accuracy\"]=float(group_dict[\"total_accuracy\"])\n",
    "                    \n",
    "                if groups:=re.search(r\"Accuracy (?P<class>[0-9]) (?P<class_accuracy>[0-9]*\\.[0-9]+)\",line) :\n",
    "                    group_dict=groups.groupdict()\n",
    "                    label=group_dict[\"class\"]\n",
    "                    d[f\"class_accuracy_{label}\"]=float(group_dict[\"class_accuracy\"])\n",
    "\n",
    "                if groups:=re.search(r\"Layer (?P<layer>[0-9]) sparseness (?P<sparseness>[0-9]*\\.[0-9]+)\",line) :\n",
    "                    group_dict=groups.groupdict()\n",
    "                    layer=group_dict[\"layer\"]\n",
    "                    d[f\"sparseness_layer_{layer}\"]=float(group_dict[\"sparseness\"])\n",
    "                    \n",
    "                if groups:=re.search(r\"Layer (?P<layer>[0-9]) (?P<class>[0-9]) sparseness (?P<sparseness>[0-9]*\\.[0-9]+)\",line) :\n",
    "                    group_dict=groups.groupdict()\n",
    "                    layer=group_dict[\"layer\"]\n",
    "                    label=group_dict[\"class\"]\n",
    "                    d[f\"sparseness_layer_{layer}_class_{label}\"]=float(group_dict[\"sparseness\"])\n",
    "                    #print(groups.groupdict())\n",
    "        return d\n",
    "    except Exception as e:\n",
    "        print(f\"Error opening {e}\")\n",
    "#        df = pd.DataFrame(data, index=[0])\n"
   ]
  },
  {
   "cell_type": "code",
   "execution_count": 21,
   "id": "9161c3ff-7e66-4c83-a6e3-8097cd2014c2",
   "metadata": {},
   "outputs": [
    {
     "data": {
      "text/plain": [
       "dict_keys(['name', 'norm', 'epochs', 'batch', 'lr', 'path', 'accuracy', 'class_accuracy_0', 'class_accuracy_1', 'class_accuracy_2', 'class_accuracy_3', 'class_accuracy_4', 'class_accuracy_5', 'class_accuracy_6', 'class_accuracy_7', 'class_accuracy_8', 'class_accuracy_9', 'sparseness_layer_0', 'sparseness_layer_1', 'sparseness_layer_2', 'sparseness_layer_0_class_0', 'sparseness_layer_0_class_1', 'sparseness_layer_0_class_2', 'sparseness_layer_0_class_3', 'sparseness_layer_0_class_4', 'sparseness_layer_0_class_5', 'sparseness_layer_0_class_6', 'sparseness_layer_0_class_7', 'sparseness_layer_0_class_8', 'sparseness_layer_0_class_9', 'sparseness_layer_1_class_0', 'sparseness_layer_1_class_1', 'sparseness_layer_1_class_2', 'sparseness_layer_1_class_3', 'sparseness_layer_1_class_4', 'sparseness_layer_1_class_5', 'sparseness_layer_1_class_6', 'sparseness_layer_1_class_7', 'sparseness_layer_1_class_8', 'sparseness_layer_1_class_9', 'sparseness_layer_2_class_0', 'sparseness_layer_2_class_1', 'sparseness_layer_2_class_2', 'sparseness_layer_2_class_3', 'sparseness_layer_2_class_4', 'sparseness_layer_2_class_5', 'sparseness_layer_2_class_6', 'sparseness_layer_2_class_7', 'sparseness_layer_2_class_8', 'sparseness_layer_2_class_9'])"
      ]
     },
     "execution_count": 21,
     "metadata": {},
     "output_type": "execute_result"
    }
   ],
   "source": [
    "parse_stat(\"/u/area/ntosato/FF/results/ff/mnist/relu_l2_200_1024_0.01\").keys()"
   ]
  },
  {
   "cell_type": "code",
   "execution_count": 22,
   "id": "058afe92-3e14-467d-9856-eb39ebdd3353",
   "metadata": {},
   "outputs": [
    {
     "name": "stdout",
     "output_type": "stream",
     "text": [
      "     accuracy  sparseness_layer_0  sparseness_layer_1  sparseness_layer_2\n",
      "2      0.9348            0.716365            0.604948            0.428884\n",
      "13     0.9303            0.629663            0.630691            0.473128\n",
      "29     0.9349            0.731048            0.645343            0.472864\n",
      "44     0.9439            0.750273            0.593829            0.390634\n",
      "57     0.9558            0.787236            0.569731            0.526007\n",
      "63     0.9400            0.739850            0.585474            0.419264\n",
      "65     0.9576            0.807095            0.547899            0.442263\n",
      "81     0.9376            0.844812            0.633252            0.755735\n",
      "97     0.9509            0.901115            0.385125            0.593094\n",
      "101    0.9521            0.768435            0.580640            0.608185\n"
     ]
    }
   ],
   "source": [
    "list_exp=get_experiments_list(dataset=\"mnist\",model=\"ff\")\n",
    "\n",
    "df_ff=pd.DataFrame()\n",
    "for exp in list_exp:\n",
    "    data = parse_stat(exp)\n",
    "    #data = pd.DataFrame([data])\n",
    "    #df = df.append(data) \n",
    "    df_ff= pd.concat([df_ff, pd.DataFrame([data])], ignore_index=True)   \n",
    "df_ff=df_ff[(df_ff[\"accuracy\"]>0.93) & (df_ff[\"norm\"]==\"l2\") & (df_ff[\"batch\"]==1024) ]\n",
    "print(df_ff[[\"accuracy\",\"sparseness_layer_0\",\"sparseness_layer_1\",\"sparseness_layer_2\"]])"
   ]
  },
  {
   "cell_type": "code",
   "execution_count": 23,
   "id": "4542958f-87ba-4e13-93c4-37fe71cbc90a",
   "metadata": {},
   "outputs": [
    {
     "name": "stdout",
     "output_type": "stream",
     "text": [
      "    accuracy  sparseness_layer_0  sparseness_layer_1  sparseness_layer_2\n",
      "2     0.9808            0.313458            0.187971            0.227225\n",
      "4     0.9814            0.323325            0.187314            0.214111\n",
      "5     0.9820            0.531103            0.403842            0.365603\n",
      "7     0.9851            0.594765            0.455802            0.403289\n",
      "8     0.9772            0.311424            0.208880            0.244209\n",
      "11    0.9820            0.561983            0.430437            0.385102\n",
      "12    0.9860            0.591513            0.448171            0.394725\n",
      "13    0.9674            0.955733            0.871967            0.882086\n",
      "29    0.9851            0.495227            0.365395            0.339543\n",
      "30    0.9808            0.316683            0.196384            0.222332\n",
      "31    0.9859            0.590000            0.453603            0.399336\n",
      "32    0.9631            0.296601            0.221982            0.256222\n",
      "34    0.9575            0.956241            0.857754            0.832904\n",
      "40    0.9643            0.953323            0.886948            0.912308\n",
      "43    0.9807            0.315008            0.199029            0.227536\n",
      "45    0.9444            0.965910            0.857247            0.780655\n",
      "46    0.9495            0.962419            0.837304            0.794598\n",
      "47    0.9558            0.954197            0.886981            0.860129\n",
      "/orfeo/cephfs/home/area/ntosato/scratch/pippo/ForwardForward-machiavelli/results//bp/mnist//relu_l2_20_1024_0.01\n"
     ]
    }
   ],
   "source": [
    "list_exp=get_experiments_list(dataset=\"mnist\",model=\"bp\")\n",
    "\n",
    "df_bp=pd.DataFrame()\n",
    "for exp in list_exp:\n",
    "    data = parse_stat(exp)\n",
    "    #data = pd.DataFrame([data])\n",
    "    #df = df.append(data) \n",
    "    df_bp= pd.concat([df_bp, pd.DataFrame([data])], ignore_index=True)   \n",
    "#print(df_bp)\n",
    "df_bp=df_bp[(df_bp[\"accuracy\"]>0.94) & (df_bp[\"norm\"]==\"l2\") & (df_bp[\"batch\"]==1024)  ]\n",
    "print(df_bp[[\"accuracy\",\"sparseness_layer_0\",\"sparseness_layer_1\",\"sparseness_layer_2\"]])\n",
    "print(df_bp.loc[45][\"path\"])"
   ]
  },
  {
   "cell_type": "code",
   "execution_count": 24,
   "id": "9aa4e123-d5b0-48a0-a2d4-9fa299f50a51",
   "metadata": {},
   "outputs": [
    {
     "name": "stdout",
     "output_type": "stream",
     "text": [
      "    accuracy  sparseness_layer_0  sparseness_layer_1  sparseness_layer_2\n",
      "2     0.9705            0.938123            0.690482            0.038087\n",
      "17    0.9708            0.907045            0.809879            0.259167\n",
      "29    0.9715            0.936608            0.793427            0.255138\n",
      "57    0.9710            0.963385            0.759814            0.319581\n"
     ]
    }
   ],
   "source": [
    "list_exp=get_experiments_list(dataset=\"mnist\",model=\"bp_ff\")\n",
    "\n",
    "df_bp_ff=pd.DataFrame()\n",
    "for exp in list_exp:\n",
    "    data = parse_stat(exp)\n",
    "    #data = pd.DataFrame([data])\n",
    "    #df = df.append(data) \n",
    "    df_bp_ff= pd.concat([df_bp_ff, pd.DataFrame([data])], ignore_index=True)   \n",
    "df_bp_ff=df_bp_ff[(df_bp_ff[\"accuracy\"]>0.97) & (df_bp_ff[\"norm\"]==\"l2\") & (df_bp_ff[\"batch\"]==1024)  ]\n",
    "print(df_bp_ff[[\"accuracy\",\"sparseness_layer_0\",\"sparseness_layer_1\",\"sparseness_layer_2\"]])"
   ]
  },
  {
   "cell_type": "code",
   "execution_count": 25,
   "id": "2063307b-34b7-4e8b-bdc4-d0931090f558",
   "metadata": {},
   "outputs": [
    {
     "data": {
      "text/plain": [
       "name                                                     relu_l2_200_1024_0.001\n",
       "norm                                                                         l2\n",
       "epochs                                                                    200.0\n",
       "batch                                                                      1024\n",
       "lr                                                                        0.001\n",
       "path                          /orfeo/cephfs/home/area/ntosato/scratch/pippo/...\n",
       "accuracy                                                                 0.9521\n",
       "class_accuracy_0                                                       0.986735\n",
       "class_accuracy_1                                                       0.989427\n",
       "class_accuracy_2                                                       0.944767\n",
       "class_accuracy_3                                                       0.947525\n",
       "class_accuracy_4                                                       0.954175\n",
       "class_accuracy_5                                                       0.926009\n",
       "class_accuracy_6                                                       0.960334\n",
       "class_accuracy_7                                                       0.947471\n",
       "class_accuracy_8                                                       0.929158\n",
       "class_accuracy_9                                                       0.928642\n",
       "sparseness_layer_0                                                     0.768435\n",
       "sparseness_layer_1                                                      0.58064\n",
       "sparseness_layer_2                                                     0.608185\n",
       "sparseness_layer_0_class_0                                             0.737003\n",
       "sparseness_layer_0_class_1                                             0.797883\n",
       "sparseness_layer_0_class_2                                             0.750699\n",
       "sparseness_layer_0_class_3                                             0.779015\n",
       "sparseness_layer_0_class_4                                             0.763053\n",
       "sparseness_layer_0_class_5                                             0.796357\n",
       "sparseness_layer_0_class_6                                             0.766369\n",
       "sparseness_layer_0_class_7                                             0.773319\n",
       "sparseness_layer_0_class_8                                             0.761772\n",
       "sparseness_layer_0_class_9                                             0.757383\n",
       "sparseness_layer_1_class_0                                             0.397714\n",
       "sparseness_layer_1_class_1                                             0.316788\n",
       "sparseness_layer_1_class_2                                             0.646317\n",
       "sparseness_layer_1_class_3                                             0.724395\n",
       "sparseness_layer_1_class_4                                             0.646488\n",
       "sparseness_layer_1_class_5                                             0.681529\n",
       "sparseness_layer_1_class_6                                             0.589865\n",
       "sparseness_layer_1_class_7                                             0.448543\n",
       "sparseness_layer_1_class_8                                             0.759153\n",
       "sparseness_layer_1_class_9                                             0.671535\n",
       "sparseness_layer_2_class_0                                              0.44976\n",
       "sparseness_layer_2_class_1                                             0.430982\n",
       "sparseness_layer_2_class_2                                              0.67511\n",
       "sparseness_layer_2_class_3                                             0.647113\n",
       "sparseness_layer_2_class_4                                             0.687363\n",
       "sparseness_layer_2_class_5                                              0.71679\n",
       "sparseness_layer_2_class_6                                             0.559968\n",
       "sparseness_layer_2_class_7                                             0.607156\n",
       "sparseness_layer_2_class_8                                              0.67794\n",
       "sparseness_layer_2_class_9                                             0.680785\n",
       "Name: 101, dtype: object"
      ]
     },
     "execution_count": 25,
     "metadata": {},
     "output_type": "execute_result"
    }
   ],
   "source": [
    "df_ff.loc[101]"
   ]
  },
  {
   "cell_type": "code",
   "execution_count": 26,
   "id": "b2027ad2-5e50-4552-a355-621fb6e0bdc7",
   "metadata": {},
   "outputs": [],
   "source": [
    "selected_model={\"ff\":[df_ff,81],\n",
    "                \"bp\":[df_bp,29],\n",
    "                \"bp_ff\":[df_bp_ff,29]}"
   ]
  },
  {
   "cell_type": "code",
   "execution_count": 27,
   "id": "99f1d893-20f2-4d7f-833b-f7cac950b4ad",
   "metadata": {},
   "outputs": [
    {
     "data": {
      "image/png": "[encoded data removed]",
      "text/plain": [
       "<Figure size 3000x1000 with 3 Axes>"
      ]
     },
     "metadata": {},
     "output_type": "display_data"
    }
   ],
   "source": [
    "def calculateSize(selected_model):\n",
    "    '''\n",
    "    Calculate  the size of the ensembles for each model,layer and category.\n",
    "    '''\n",
    "    jitter=np.array([i/10 for i in range(0,10)])\n",
    "    labels=[i for j in range(3) for i in range(10)]\n",
    "    #with plt.style.context(\"_mpl-gallery-nogrid\"):\n",
    "    plt.figure(figsize=(30,10))\n",
    "    for layer in range(3):\n",
    "        plt.subplot(1,3,1+layer)\n",
    "        i=0\n",
    "        ticks=list()\n",
    "        for model in ['ff','bp_ff','bp']:\n",
    "            i+=1.2\n",
    "            dataframe,index=selected_model[model]\n",
    "            units=list()\n",
    "            for lbl in range(10):\n",
    "                units.append(dataframe.loc[index][f\"sparseness_layer_{layer}_class_{lbl}\"])\n",
    "            plt.ylim([0,1.1])\n",
    "            #plt.yscale(\"log\")\n",
    "            plt.bar(i+jitter,units,label=model,width=0.05)\n",
    "            ticks+=(i+jitter).tolist()\n",
    "        plt.legend(labels=['FF','BP/FF','BP'],loc='upper left')\n",
    "        plt.title(f'Layer {layer+1}',fontsize=24)\n",
    "        plt.xticks(ticks=ticks, labels=labels,fontsize=15)\n",
    "        plt.yticks(fontsize=15)\n",
    "        plt.xlabel(\"Categories\",fontsize=21)\n",
    "        if layer==0:\n",
    "            plt.ylabel(\"Yukun sparseness\",fontsize=21)\n",
    "        plt.grid(axis=\"y\",which=\"both\",linewidth=0.2)\n",
    "\n",
    "calculateSize(selected_model)"
   ]
  },
  {
   "cell_type": "code",
   "execution_count": 30,
   "id": "3c425ee3-d3d5-4fd8-8ca5-fe24427dfa34",
   "metadata": {},
   "outputs": [],
   "source": []
  },
  {
   "cell_type": "code",
   "execution_count": 31,
   "id": "e5aa2ece-fbc6-4c12-bbae-42a9baa45f9d",
   "metadata": {},
   "outputs": [],
   "source": []
  },
  {
   "cell_type": "code",
   "execution_count": 32,
   "id": "b04e0ace-fbf9-4294-aa0c-d6093bcd9b84",
   "metadata": {},
   "outputs": [],
   "source": []
  },
  {
   "cell_type": "code",
   "execution_count": null,
   "id": "4d3e42b8-438a-4944-b3ac-473984b8f86f",
   "metadata": {},
   "outputs": [],
   "source": []
  }
 ],
 "metadata": {
  "kernelspec": {
   "display_name": "Python 3 (ipykernel)",
   "language": "python",
   "name": "python3"
  },
  "language_info": {
   "codemirror_mode": {
    "name": "ipython",
    "version": 3
   },
   "file_extension": ".py",
   "mimetype": "text/x-python",
   "name": "python",
   "nbconvert_exporter": "python",
   "pygments_lexer": "ipython3",
   "version": "3.11.6"
  }
 },
 "nbformat": 4,
 "nbformat_minor": 5
}
